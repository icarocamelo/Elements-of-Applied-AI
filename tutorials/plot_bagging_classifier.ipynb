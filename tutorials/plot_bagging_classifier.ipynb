{
  "cells": [
    {
      "cell_type": "code",
      "execution_count": null,
      "metadata": {
        "collapsed": false
      },
      "outputs": [],
      "source": [
        "%matplotlib inline"
      ]
    },
    {
      "cell_type": "markdown",
      "metadata": {},
      "source": [
        "\n",
        "# Bagging classifiers using sampler\n",
        "\n",
        "- Generating imbalanced dataset\n",
        "- Use BalancedBaggingClassifier\n",
        "- Use SMOTE"
      ]
    },
    {
      "cell_type": "markdown",
      "metadata": {},
      "source": [
        "## Generate an imbalanced dataset\n",
        "\n",
        "We create a synthetic dataset using the function\n",
        ":func:`~sklearn.datasets.make_classification`\n",
        "\n"
      ]
    },
    {
      "cell_type": "code",
      "execution_count": null,
      "metadata": {
        "collapsed": false
      },
      "outputs": [],
      "source": [
        "from sklearn.datasets import make_classification\n",
        "\n",
        "X, y = make_classification(\n",
        "    n_samples=10_000,\n",
        "    n_features=10,\n",
        "    weights=[0.1, 0.9],\n",
        "    class_sep=0.5,\n",
        "    random_state=0,\n",
        ")"
      ]
    },
    {
      "cell_type": "code",
      "execution_count": null,
      "metadata": {
        "collapsed": false
      },
      "outputs": [],
      "source": [
        "import pandas as pd\n",
        "\n",
        "pd.Series(y).value_counts(normalize=True)"
      ]
    },
    {
      "cell_type": "markdown",
      "metadata": {},
      "source": [
        "## BalancedBaggingClassifier\n"
      ]
    },
    {
      "cell_type": "code",
      "execution_count": null,
      "metadata": {
        "collapsed": false
      },
      "outputs": [],
      "source": [
        "from sklearn.model_selection import cross_validate\n",
        "from sklearn.ensemble import BaggingClassifier\n",
        "\n",
        "ebb = BaggingClassifier()\n",
        "cv_results = cross_validate(ebb, X, y, scoring=\"balanced_accuracy\")\n",
        "\n",
        "print(f\"{cv_results['test_score'].mean():.3f} +/- {cv_results['test_score'].std():.3f}\")"
      ]
    },
    {
      "cell_type": "markdown",
      "metadata": {},
      "source": [
        "## SMOTE-Bagging\n",
        "\n",
        ":class:`~imblearn.over_sampling.SMOTE` as an over-sampler\n",
        "\n"
      ]
    },
    {
      "cell_type": "code",
      "execution_count": null,
      "metadata": {
        "collapsed": false
      },
      "outputs": [],
      "source": [
        "from imblearn.over_sampling import SMOTE\n",
        "\n",
        "# SMOTE-Bagging\n",
        "smote_bagging = BalancedBaggingClassifier(sampler=SMOTE())\n",
        "cv_results = cross_validate(smote_bagging, X, y, scoring=\"balanced_accuracy\")\n",
        "\n",
        "print(f\"{cv_results['test_score'].mean():.3f} +/- {cv_results['test_score'].std():.3f}\")"
      ]
    }
  ],
  "metadata": {
    "kernelspec": {
      "display_name": "Python 3",
      "language": "python",
      "name": "python3"
    },
    "language_info": {
      "codemirror_mode": {
        "name": "ipython",
        "version": 3
      },
      "file_extension": ".py",
      "mimetype": "text/x-python",
      "name": "python",
      "nbconvert_exporter": "python",
      "pygments_lexer": "ipython3",
      "version": "3.9.9"
    }
  },
  "nbformat": 4,
  "nbformat_minor": 0
}
