{
 "cells": [
  {
   "cell_type": "code",
   "execution_count": 6,
   "metadata": {},
   "outputs": [
    {
     "name": "stdout",
     "output_type": "stream",
     "text": [
      "Number of instances = 672\n",
      "Number of attributes = 8\n"
     ]
    },
    {
     "data": {
      "text/html": [
       "<div>\n",
       "<style scoped>\n",
       "    .dataframe tbody tr th:only-of-type {\n",
       "        vertical-align: middle;\n",
       "    }\n",
       "\n",
       "    .dataframe tbody tr th {\n",
       "        vertical-align: top;\n",
       "    }\n",
       "\n",
       "    .dataframe thead th {\n",
       "        text-align: right;\n",
       "    }\n",
       "</style>\n",
       "<table border=\"1\" class=\"dataframe\">\n",
       "  <thead>\n",
       "    <tr style=\"text-align: right;\">\n",
       "      <th></th>\n",
       "      <th>Timestamp</th>\n",
       "      <th>Formatted Timestamp</th>\n",
       "      <th>Busy System</th>\n",
       "      <th>Busy User</th>\n",
       "      <th>Busy Iowait</th>\n",
       "      <th>Busy IRQs</th>\n",
       "      <th>Busy Other</th>\n",
       "      <th>Idle</th>\n",
       "    </tr>\n",
       "  </thead>\n",
       "  <tbody>\n",
       "    <tr>\n",
       "      <th>0</th>\n",
       "      <td>1646410320</td>\n",
       "      <td>2022-03-04 16:12</td>\n",
       "      <td>22.7</td>\n",
       "      <td>354.0</td>\n",
       "      <td>1.28</td>\n",
       "      <td>10.0</td>\n",
       "      <td>1.2200</td>\n",
       "      <td>477.0</td>\n",
       "    </tr>\n",
       "    <tr>\n",
       "      <th>1</th>\n",
       "      <td>1646410560</td>\n",
       "      <td>2022-03-04 16:16</td>\n",
       "      <td>31.1</td>\n",
       "      <td>919.0</td>\n",
       "      <td>1.12</td>\n",
       "      <td>13.7</td>\n",
       "      <td>0.1040</td>\n",
       "      <td>250.0</td>\n",
       "    </tr>\n",
       "    <tr>\n",
       "      <th>2</th>\n",
       "      <td>1646410800</td>\n",
       "      <td>2022-03-04 16:20</td>\n",
       "      <td>34.7</td>\n",
       "      <td>592.0</td>\n",
       "      <td>2.14</td>\n",
       "      <td>15.8</td>\n",
       "      <td>0.0851</td>\n",
       "      <td>750.0</td>\n",
       "    </tr>\n",
       "    <tr>\n",
       "      <th>3</th>\n",
       "      <td>1646411040</td>\n",
       "      <td>2022-03-04 16:24</td>\n",
       "      <td>33.1</td>\n",
       "      <td>830.0</td>\n",
       "      <td>1.69</td>\n",
       "      <td>25.0</td>\n",
       "      <td>0.1000</td>\n",
       "      <td>428.0</td>\n",
       "    </tr>\n",
       "    <tr>\n",
       "      <th>4</th>\n",
       "      <td>1646411280</td>\n",
       "      <td>2022-03-04 16:28</td>\n",
       "      <td>43.4</td>\n",
       "      <td>70.3</td>\n",
       "      <td>3.16</td>\n",
       "      <td>17.6</td>\n",
       "      <td>0.1110</td>\n",
       "      <td>1460.0</td>\n",
       "    </tr>\n",
       "  </tbody>\n",
       "</table>\n",
       "</div>"
      ],
      "text/plain": [
       "    Timestamp Formatted Timestamp  Busy System  Busy User  Busy Iowait  \\\n",
       "0  1646410320    2022-03-04 16:12         22.7      354.0         1.28   \n",
       "1  1646410560    2022-03-04 16:16         31.1      919.0         1.12   \n",
       "2  1646410800    2022-03-04 16:20         34.7      592.0         2.14   \n",
       "3  1646411040    2022-03-04 16:24         33.1      830.0         1.69   \n",
       "4  1646411280    2022-03-04 16:28         43.4       70.3         3.16   \n",
       "\n",
       "   Busy IRQs  Busy Other    Idle  \n",
       "0       10.0      1.2200   477.0  \n",
       "1       13.7      0.1040   250.0  \n",
       "2       15.8      0.0851   750.0  \n",
       "3       25.0      0.1000   428.0  \n",
       "4       17.6      0.1110  1460.0  "
      ]
     },
     "execution_count": 6,
     "metadata": {},
     "output_type": "execute_result"
    }
   ],
   "source": [
    "import pandas as pd\n",
    "\n",
    "data = pd.read_csv('https://raw.githubusercontent.com/icarocamelo/inf-6333-applied-ai/main/dataset/node1.csv', header=None, parse_dates=True)\n",
    "data.columns = ['Timestamp', 'Formatted Timestamp', 'Busy System', 'Busy User', 'Busy Iowait', 'Busy IRQs', 'Busy Other', 'Idle']\n",
    "print('Number of instances = %d' % (data.shape[0]))\n",
    "print('Number of attributes = %d' % (data.shape[1]))\n",
    "data.head()"
   ]
  },
  {
   "cell_type": "code",
   "execution_count": 8,
   "metadata": {},
   "outputs": [
    {
     "name": "stdout",
     "output_type": "stream",
     "text": [
      "(array([[42.1, 47.9, 42.2, 44.7, 42.8]]), array([41.2]))\n"
     ]
    }
   ],
   "source": [
    "from sklearn.model_selection import train_test_split\n",
    "\n",
    "# Consider 'Busy System' and 'Timestamp'\n",
    "X = data['Busy System']\n",
    "# Needed to call train_test_split()\n",
    "y = X\n",
    "\n",
    "X_train, X_test, y_train, y_test = train_test_split(X, y, test_size=0.2)\n",
    "\n",
    "from keras.preprocessing.sequence import TimeseriesGenerator\n",
    "\n",
    "# Considering n previous values for the prediction\n",
    "n_history = 5\n",
    "generator = TimeseriesGenerator(X_train, X_train, length=n_history, batch_size=1, shuffle=False)\n",
    "print(generator[0])"
   ]
  },
  {
   "cell_type": "code",
   "execution_count": 9,
   "metadata": {},
   "outputs": [
    {
     "name": "stdout",
     "output_type": "stream",
     "text": [
      "Model: \"sequential\"\n",
      "_________________________________________________________________\n",
      " Layer (type)                Output Shape              Param #   \n",
      "=================================================================\n",
      " lstm (LSTM)                 (None, 64)                16896     \n",
      "                                                                 \n",
      " dense (Dense)               (None, 8)                 520       \n",
      "                                                                 \n",
      " dense_1 (Dense)             (None, 1)                 9         \n",
      "                                                                 \n",
      "=================================================================\n",
      "Total params: 17,425\n",
      "Trainable params: 17,425\n",
      "Non-trainable params: 0\n",
      "_________________________________________________________________\n"
     ]
    }
   ],
   "source": [
    "from keras.models import Sequential\n",
    "from keras.layers import Dense, InputLayer\n",
    "from keras.layers import LSTM\n",
    "\n",
    "model = Sequential()\n",
    "model.add(InputLayer((n_history,1)))\n",
    "# Number of cells\n",
    "model.add(LSTM(64))\n",
    "model.add(Dense(8))\n",
    "model.add(Dense(1))\n",
    "model.compile(optimizer='Adam', loss='mse')\n",
    "model.summary()"
   ]
  },
  {
   "cell_type": "code",
   "execution_count": 10,
   "metadata": {},
   "outputs": [
    {
     "name": "stdout",
     "output_type": "stream",
     "text": [
      "Epoch 1/20\n",
      "  1/532 [..............................] - ETA: 12:13 - loss: 1779.9915"
     ]
    },
    {
     "ename": "UnknownError",
     "evalue": "Graph execution error:\n\nKeyError: 489\nTraceback (most recent call last):\n\n  File \"C:\\Python38\\lib\\site-packages\\pandas\\core\\indexes\\base.py\", line 3361, in get_loc\n    return self._engine.get_loc(casted_key)\n\n  File \"pandas\\_libs\\index.pyx\", line 76, in pandas._libs.index.IndexEngine.get_loc\n\n  File \"pandas\\_libs\\index.pyx\", line 108, in pandas._libs.index.IndexEngine.get_loc\n\n  File \"pandas\\_libs\\hashtable_class_helper.pxi\", line 2131, in pandas._libs.hashtable.Int64HashTable.get_item\n\n  File \"pandas\\_libs\\hashtable_class_helper.pxi\", line 2140, in pandas._libs.hashtable.Int64HashTable.get_item\n\nKeyError: 489\n\n\nThe above exception was the direct cause of the following exception:\n\n\nTraceback (most recent call last):\n\n  File \"C:\\Python38\\lib\\site-packages\\tensorflow\\python\\ops\\script_ops.py\", line 271, in __call__\n    ret = func(*args)\n\n  File \"C:\\Python38\\lib\\site-packages\\tensorflow\\python\\autograph\\impl\\api.py\", line 642, in wrapper\n    return func(*args, **kwargs)\n\n  File \"C:\\Python38\\lib\\site-packages\\tensorflow\\python\\data\\ops\\dataset_ops.py\", line 1004, in generator_py_func\n    values = next(generator_state.get_iterator(iterator_id))\n\n  File \"C:\\Python38\\lib\\site-packages\\keras\\engine\\data_adapter.py\", line 830, in wrapped_generator\n    for data in generator_fn():\n\n  File \"C:\\Python38\\lib\\site-packages\\keras\\engine\\data_adapter.py\", line 956, in generator_fn\n    yield x[i]\n\n  File \"C:\\Python38\\lib\\site-packages\\keras_preprocessing\\sequence.py\", line 374, in __getitem__\n    targets = np.array([self.targets[row] for row in rows])\n\n  File \"C:\\Python38\\lib\\site-packages\\keras_preprocessing\\sequence.py\", line 374, in <listcomp>\n    targets = np.array([self.targets[row] for row in rows])\n\n  File \"C:\\Python38\\lib\\site-packages\\pandas\\core\\series.py\", line 942, in __getitem__\n    return self._get_value(key)\n\n  File \"C:\\Python38\\lib\\site-packages\\pandas\\core\\series.py\", line 1051, in _get_value\n    loc = self.index.get_loc(label)\n\n  File \"C:\\Python38\\lib\\site-packages\\pandas\\core\\indexes\\base.py\", line 3363, in get_loc\n    raise KeyError(key) from err\n\nKeyError: 489\n\n\n\t [[{{node PyFunc}}]]\n\t [[IteratorGetNext]] [Op:__inference_train_function_3005]",
     "output_type": "error",
     "traceback": [
      "\u001b[1;31m---------------------------------------------------------------------------\u001b[0m",
      "\u001b[1;31mUnknownError\u001b[0m                              Traceback (most recent call last)",
      "\u001b[1;32md:\\dev\\UQO\\inf-6333-applied-ai\\timeseries-lstm.ipynb Cell 4'\u001b[0m in \u001b[0;36m<module>\u001b[1;34m\u001b[0m\n\u001b[1;32m----> <a href='vscode-notebook-cell:/d%3A/dev/UQO/inf-6333-applied-ai/timeseries-lstm.ipynb#ch0000003?line=0'>1</a>\u001b[0m model\u001b[39m.\u001b[39;49mfit(generator, epochs\u001b[39m=\u001b[39;49m\u001b[39m20\u001b[39;49m)\n",
      "File \u001b[1;32mC:\\Python38\\lib\\site-packages\\keras\\utils\\traceback_utils.py:67\u001b[0m, in \u001b[0;36mfilter_traceback.<locals>.error_handler\u001b[1;34m(*args, **kwargs)\u001b[0m\n\u001b[0;32m     <a href='file:///c%3A/Python38/lib/site-packages/keras/utils/traceback_utils.py?line=64'>65</a>\u001b[0m \u001b[39mexcept\u001b[39;00m \u001b[39mException\u001b[39;00m \u001b[39mas\u001b[39;00m e:  \u001b[39m# pylint: disable=broad-except\u001b[39;00m\n\u001b[0;32m     <a href='file:///c%3A/Python38/lib/site-packages/keras/utils/traceback_utils.py?line=65'>66</a>\u001b[0m   filtered_tb \u001b[39m=\u001b[39m _process_traceback_frames(e\u001b[39m.\u001b[39m__traceback__)\n\u001b[1;32m---> <a href='file:///c%3A/Python38/lib/site-packages/keras/utils/traceback_utils.py?line=66'>67</a>\u001b[0m   \u001b[39mraise\u001b[39;00m e\u001b[39m.\u001b[39mwith_traceback(filtered_tb) \u001b[39mfrom\u001b[39;00m \u001b[39mNone\u001b[39m\n\u001b[0;32m     <a href='file:///c%3A/Python38/lib/site-packages/keras/utils/traceback_utils.py?line=67'>68</a>\u001b[0m \u001b[39mfinally\u001b[39;00m:\n\u001b[0;32m     <a href='file:///c%3A/Python38/lib/site-packages/keras/utils/traceback_utils.py?line=68'>69</a>\u001b[0m   \u001b[39mdel\u001b[39;00m filtered_tb\n",
      "File \u001b[1;32mC:\\Python38\\lib\\site-packages\\tensorflow\\python\\eager\\execute.py:54\u001b[0m, in \u001b[0;36mquick_execute\u001b[1;34m(op_name, num_outputs, inputs, attrs, ctx, name)\u001b[0m\n\u001b[0;32m     <a href='file:///c%3A/Python38/lib/site-packages/tensorflow/python/eager/execute.py?line=51'>52</a>\u001b[0m \u001b[39mtry\u001b[39;00m:\n\u001b[0;32m     <a href='file:///c%3A/Python38/lib/site-packages/tensorflow/python/eager/execute.py?line=52'>53</a>\u001b[0m   ctx\u001b[39m.\u001b[39mensure_initialized()\n\u001b[1;32m---> <a href='file:///c%3A/Python38/lib/site-packages/tensorflow/python/eager/execute.py?line=53'>54</a>\u001b[0m   tensors \u001b[39m=\u001b[39m pywrap_tfe\u001b[39m.\u001b[39mTFE_Py_Execute(ctx\u001b[39m.\u001b[39m_handle, device_name, op_name,\n\u001b[0;32m     <a href='file:///c%3A/Python38/lib/site-packages/tensorflow/python/eager/execute.py?line=54'>55</a>\u001b[0m                                       inputs, attrs, num_outputs)\n\u001b[0;32m     <a href='file:///c%3A/Python38/lib/site-packages/tensorflow/python/eager/execute.py?line=55'>56</a>\u001b[0m \u001b[39mexcept\u001b[39;00m core\u001b[39m.\u001b[39m_NotOkStatusException \u001b[39mas\u001b[39;00m e:\n\u001b[0;32m     <a href='file:///c%3A/Python38/lib/site-packages/tensorflow/python/eager/execute.py?line=56'>57</a>\u001b[0m   \u001b[39mif\u001b[39;00m name \u001b[39mis\u001b[39;00m \u001b[39mnot\u001b[39;00m \u001b[39mNone\u001b[39;00m:\n",
      "\u001b[1;31mUnknownError\u001b[0m: Graph execution error:\n\nKeyError: 489\nTraceback (most recent call last):\n\n  File \"C:\\Python38\\lib\\site-packages\\pandas\\core\\indexes\\base.py\", line 3361, in get_loc\n    return self._engine.get_loc(casted_key)\n\n  File \"pandas\\_libs\\index.pyx\", line 76, in pandas._libs.index.IndexEngine.get_loc\n\n  File \"pandas\\_libs\\index.pyx\", line 108, in pandas._libs.index.IndexEngine.get_loc\n\n  File \"pandas\\_libs\\hashtable_class_helper.pxi\", line 2131, in pandas._libs.hashtable.Int64HashTable.get_item\n\n  File \"pandas\\_libs\\hashtable_class_helper.pxi\", line 2140, in pandas._libs.hashtable.Int64HashTable.get_item\n\nKeyError: 489\n\n\nThe above exception was the direct cause of the following exception:\n\n\nTraceback (most recent call last):\n\n  File \"C:\\Python38\\lib\\site-packages\\tensorflow\\python\\ops\\script_ops.py\", line 271, in __call__\n    ret = func(*args)\n\n  File \"C:\\Python38\\lib\\site-packages\\tensorflow\\python\\autograph\\impl\\api.py\", line 642, in wrapper\n    return func(*args, **kwargs)\n\n  File \"C:\\Python38\\lib\\site-packages\\tensorflow\\python\\data\\ops\\dataset_ops.py\", line 1004, in generator_py_func\n    values = next(generator_state.get_iterator(iterator_id))\n\n  File \"C:\\Python38\\lib\\site-packages\\keras\\engine\\data_adapter.py\", line 830, in wrapped_generator\n    for data in generator_fn():\n\n  File \"C:\\Python38\\lib\\site-packages\\keras\\engine\\data_adapter.py\", line 956, in generator_fn\n    yield x[i]\n\n  File \"C:\\Python38\\lib\\site-packages\\keras_preprocessing\\sequence.py\", line 374, in __getitem__\n    targets = np.array([self.targets[row] for row in rows])\n\n  File \"C:\\Python38\\lib\\site-packages\\keras_preprocessing\\sequence.py\", line 374, in <listcomp>\n    targets = np.array([self.targets[row] for row in rows])\n\n  File \"C:\\Python38\\lib\\site-packages\\pandas\\core\\series.py\", line 942, in __getitem__\n    return self._get_value(key)\n\n  File \"C:\\Python38\\lib\\site-packages\\pandas\\core\\series.py\", line 1051, in _get_value\n    loc = self.index.get_loc(label)\n\n  File \"C:\\Python38\\lib\\site-packages\\pandas\\core\\indexes\\base.py\", line 3363, in get_loc\n    raise KeyError(key) from err\n\nKeyError: 489\n\n\n\t [[{{node PyFunc}}]]\n\t [[IteratorGetNext]] [Op:__inference_train_function_3005]"
     ]
    }
   ],
   "source": [
    "model.fit(generator, epochs=20)"
   ]
  }
 ],
 "metadata": {
  "interpreter": {
   "hash": "2db524e06e9f5f4ffedc911c917cb75e12dbc923643829bf417064a77eb14d37"
  },
  "kernelspec": {
   "display_name": "Python 3.8.2 64-bit",
   "language": "python",
   "name": "python3"
  },
  "language_info": {
   "codemirror_mode": {
    "name": "ipython",
    "version": 3
   },
   "file_extension": ".py",
   "mimetype": "text/x-python",
   "name": "python",
   "nbconvert_exporter": "python",
   "pygments_lexer": "ipython3",
   "version": "3.8.2"
  },
  "orig_nbformat": 4
 },
 "nbformat": 4,
 "nbformat_minor": 2
}
